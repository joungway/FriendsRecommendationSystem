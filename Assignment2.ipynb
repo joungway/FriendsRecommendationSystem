{
  "nbformat": 4,
  "nbformat_minor": 0,
  "metadata": {
    "colab": {
      "provenance": []
    },
    "kernelspec": {
      "name": "python3",
      "display_name": "Python 3"
    },
    "language_info": {
      "name": "python"
    }
  },
  "cells": [
    {
      "cell_type": "markdown",
      "source": [
        "# Homework 2\n",
        "## Social network friendship recommendation algorithm in Spark"
      ],
      "metadata": {
        "id": "kujjdll-bWM1"
      }
    },
    {
      "cell_type": "code",
      "source": [
        "# Setup Spark on Colab environment\n",
        "\n",
        "!pip install pyspark\n",
        "!pip install -U -q PyDrive\n",
        "!apt install openjdk-8-jdk-headless -qq\n",
        "import os\n",
        "os.environ[\"JAVA_HOME\"] = \"/usr/lib/jvm/java-8-openjdk-amd64\""
      ],
      "metadata": {
        "colab": {
          "base_uri": "https://localhost:8080/"
        },
        "id": "EJfJFLNgcuOC",
        "outputId": "c6aa561f-36c5-4770-c40d-d3740cacd3ff"
      },
      "execution_count": 7,
      "outputs": [
        {
          "output_type": "stream",
          "name": "stdout",
          "text": [
            "Looking in indexes: https://pypi.org/simple, https://us-python.pkg.dev/colab-wheels/public/simple/\n",
            "Collecting pyspark\n",
            "  Downloading pyspark-3.3.1.tar.gz (281.4 MB)\n",
            "\u001b[2K     \u001b[90m━━━━━━━━━━━━━━━━━━━━━━━━━━━━━━━━━━━━━━━\u001b[0m \u001b[32m281.4/281.4 MB\u001b[0m \u001b[31m4.3 MB/s\u001b[0m eta \u001b[36m0:00:00\u001b[0m\n",
            "\u001b[?25h  Preparing metadata (setup.py) ... \u001b[?25l\u001b[?25hdone\n",
            "Collecting py4j==0.10.9.5\n",
            "  Downloading py4j-0.10.9.5-py2.py3-none-any.whl (199 kB)\n",
            "\u001b[2K     \u001b[90m━━━━━━━━━━━━━━━━━━━━━━━━━━━━━━━━━━━━━━\u001b[0m \u001b[32m199.7/199.7 KB\u001b[0m \u001b[31m17.9 MB/s\u001b[0m eta \u001b[36m0:00:00\u001b[0m\n",
            "\u001b[?25hBuilding wheels for collected packages: pyspark\n",
            "  Building wheel for pyspark (setup.py) ... \u001b[?25l\u001b[?25hdone\n",
            "  Created wheel for pyspark: filename=pyspark-3.3.1-py2.py3-none-any.whl size=281845512 sha256=b620a7a9492eda212e375d0955dd80091d4e0ceee52569f72535ad891c4bd5f1\n",
            "  Stored in directory: /root/.cache/pip/wheels/43/dc/11/ec201cd671da62fa9c5cc77078235e40722170ceba231d7598\n",
            "Successfully built pyspark\n",
            "Installing collected packages: py4j, pyspark\n",
            "Successfully installed py4j-0.10.9.5 pyspark-3.3.1\n",
            "The following package was automatically installed and is no longer required:\n",
            "  libnvidia-common-510\n",
            "Use 'apt autoremove' to remove it.\n",
            "The following additional packages will be installed:\n",
            "  openjdk-8-jre-headless\n",
            "Suggested packages:\n",
            "  openjdk-8-demo openjdk-8-source libnss-mdns fonts-dejavu-extra\n",
            "  fonts-ipafont-gothic fonts-ipafont-mincho fonts-wqy-microhei\n",
            "  fonts-wqy-zenhei fonts-indic\n",
            "The following NEW packages will be installed:\n",
            "  openjdk-8-jdk-headless openjdk-8-jre-headless\n",
            "0 upgraded, 2 newly installed, 0 to remove and 27 not upgraded.\n",
            "Need to get 36.5 MB of archives.\n",
            "After this operation, 143 MB of additional disk space will be used.\n",
            "Selecting previously unselected package openjdk-8-jre-headless:amd64.\n",
            "(Reading database ... 129501 files and directories currently installed.)\n",
            "Preparing to unpack .../openjdk-8-jre-headless_8u352-ga-1~20.04_amd64.deb ...\n",
            "Unpacking openjdk-8-jre-headless:amd64 (8u352-ga-1~20.04) ...\n",
            "Selecting previously unselected package openjdk-8-jdk-headless:amd64.\n",
            "Preparing to unpack .../openjdk-8-jdk-headless_8u352-ga-1~20.04_amd64.deb ...\n",
            "Unpacking openjdk-8-jdk-headless:amd64 (8u352-ga-1~20.04) ...\n",
            "Setting up openjdk-8-jre-headless:amd64 (8u352-ga-1~20.04) ...\n",
            "update-alternatives: using /usr/lib/jvm/java-8-openjdk-amd64/jre/bin/orbd to provide /usr/bin/orbd (orbd) in auto mode\n",
            "update-alternatives: using /usr/lib/jvm/java-8-openjdk-amd64/jre/bin/servertool to provide /usr/bin/servertool (servertool) in auto mode\n",
            "update-alternatives: using /usr/lib/jvm/java-8-openjdk-amd64/jre/bin/tnameserv to provide /usr/bin/tnameserv (tnameserv) in auto mode\n",
            "Setting up openjdk-8-jdk-headless:amd64 (8u352-ga-1~20.04) ...\n",
            "update-alternatives: using /usr/lib/jvm/java-8-openjdk-amd64/bin/idlj to provide /usr/bin/idlj (idlj) in auto mode\n",
            "update-alternatives: using /usr/lib/jvm/java-8-openjdk-amd64/bin/wsimport to provide /usr/bin/wsimport (wsimport) in auto mode\n",
            "update-alternatives: using /usr/lib/jvm/java-8-openjdk-amd64/bin/jsadebugd to provide /usr/bin/jsadebugd (jsadebugd) in auto mode\n",
            "update-alternatives: using /usr/lib/jvm/java-8-openjdk-amd64/bin/native2ascii to provide /usr/bin/native2ascii (native2ascii) in auto mode\n",
            "update-alternatives: using /usr/lib/jvm/java-8-openjdk-amd64/bin/javah to provide /usr/bin/javah (javah) in auto mode\n",
            "update-alternatives: using /usr/lib/jvm/java-8-openjdk-amd64/bin/clhsdb to provide /usr/bin/clhsdb (clhsdb) in auto mode\n",
            "update-alternatives: using /usr/lib/jvm/java-8-openjdk-amd64/bin/xjc to provide /usr/bin/xjc (xjc) in auto mode\n",
            "update-alternatives: using /usr/lib/jvm/java-8-openjdk-amd64/bin/hsdb to provide /usr/bin/hsdb (hsdb) in auto mode\n",
            "update-alternatives: using /usr/lib/jvm/java-8-openjdk-amd64/bin/schemagen to provide /usr/bin/schemagen (schemagen) in auto mode\n",
            "update-alternatives: using /usr/lib/jvm/java-8-openjdk-amd64/bin/extcheck to provide /usr/bin/extcheck (extcheck) in auto mode\n",
            "update-alternatives: using /usr/lib/jvm/java-8-openjdk-amd64/bin/jhat to provide /usr/bin/jhat (jhat) in auto mode\n",
            "update-alternatives: using /usr/lib/jvm/java-8-openjdk-amd64/bin/wsgen to provide /usr/bin/wsgen (wsgen) in auto mode\n"
          ]
        }
      ]
    },
    {
      "cell_type": "code",
      "source": [
        "from pydrive.auth import GoogleAuth\n",
        "from pydrive.drive import GoogleDrive\n",
        "from google.colab import auth\n",
        "from oauth2client.client import GoogleCredentials\n",
        "\n",
        "# Authenticate and create the PyDrive client\n",
        "auth.authenticate_user()\n",
        "gauth = GoogleAuth()\n",
        "gauth.credentials = GoogleCredentials.get_application_default()\n",
        "drive = GoogleDrive(gauth)"
      ],
      "metadata": {
        "id": "Nm1i9FT-dh_P"
      },
      "execution_count": 8,
      "outputs": []
    },
    {
      "cell_type": "code",
      "source": [
        "id='1K6CfkG-SbmqOPnvQbseQoIipfjyFpt0i'\n",
        "downloaded = drive.CreateFile({'id': id})\n",
        "downloaded.GetContentFile('hw2_data.txt')"
      ],
      "metadata": {
        "id": "T1_usjBUjo08"
      },
      "execution_count": 9,
      "outputs": []
    },
    {
      "cell_type": "code",
      "source": [
        "!head -n 10000 hw2_data.txt > short_data.txt"
      ],
      "metadata": {
        "id": "poIAyYcZKU3S"
      },
      "execution_count": 10,
      "outputs": []
    },
    {
      "cell_type": "code",
      "source": [
        "from pyspark.sql import *\n",
        "#from pyspark.sql.functions import *\n",
        "from pyspark import SparkConf, SparkContext\n",
        "import pandas as pd\n",
        "\n",
        "import re\n",
        "import sys\n",
        "import itertools\n",
        "\n",
        "# Write code to create a Spark context.\n",
        "conf = SparkConf()\n",
        "sc = SparkContext.getOrCreate();\n",
        "\n",
        "users = sc.textFile(\"short_data.txt\", 1)\n",
        "users.take(5)"
      ],
      "metadata": {
        "colab": {
          "base_uri": "https://localhost:8080/"
        },
        "id": "BqOKext-JSLy",
        "outputId": "783e41bc-5672-43a9-8ccc-fd0cab68344a"
      },
      "execution_count": 11,
      "outputs": [
        {
          "output_type": "execute_result",
          "data": {
            "text/plain": [
              "['0\\t1,2,3,4,5,6,7,8,9,10,11,12,13,14,15,16,17,18,19,20,21,22,23,24,25,26,27,28,29,30,31,32,33,34,35,36,37,38,39,40,41,42,43,44,45,46,47,48,49,50,51,52,53,54,55,56,57,58,59,60,61,62,63,64,65,66,67,68,69,70,71,72,73,74,75,76,77,78,79,80,81,82,83,84,85,86,87,88,89,90,91,92,93,94',\n",
              " '1\\t0,5,20,135,2409,8715,8932,10623,12347,12846,13840,13845,14005,20075,21556,22939,23520,28193,29724,29791,29826,30691,31232,31435,32317,32489,34394,35589,35605,35606,35613,35633,35648,35678,38737,43447,44846,44887,49226,49985,623,629,4999,6156,13912,14248,15190,17636,19217,20074,27536,29481,29726,29767,30257,33060,34250,34280,34392,34406,34418,34420,34439,34450,34651,45054,49592',\n",
              " '2\\t0,117,135,1220,2755,12453,24539,24714,41456,45046,49927,6893,13795,16659,32828,41878',\n",
              " '3\\t0,12,41,55,1532,12636,13185,27552,38737',\n",
              " '4\\t0,8,14,15,18,27,72,80,15326,19068,19079,24596,42697,46126,74,77,33269,38792,38822']"
            ]
          },
          "metadata": {},
          "execution_count": 11
        }
      ]
    },
    {
      "cell_type": "code",
      "source": [
        "# Create pairs of friends for each user\n",
        "def friend_pairs(line):\n",
        "    split = line.split()\n",
        "    user_id = int(split[0])\n",
        "    if len(split) == 1:\n",
        "        friends = []\n",
        "    else:\n",
        "        friends = list(map(lambda x: int(x), split[1].split(',')))\n",
        "    return user_id, friends\n",
        "\n",
        "# Make a list of tuples which is a connection between two friends \n",
        "def user_connected_friends(friendships):\n",
        "    user_id = friendships[0]\n",
        "    friends = friendships[1]\n",
        "    user_connections = []\n",
        "    for user in friends:\n",
        "        key = (user_id, user)\n",
        "        if user_id > user:\n",
        "            key = (user, user_id)\n",
        "        user_connections.append((key, 0))\n",
        "    for pairs in itertools.combinations(friends, 2):\n",
        "        f1 = pairs[0]\n",
        "        f2 = pairs[1]\n",
        "        key = (f1, f2)\n",
        "        if f1 > f2:\n",
        "            key = (f2, f1)\n",
        "        user_connections.append((key, 1))\n",
        "    return user_connections\n",
        "\n",
        "# Map pairs of friends\n",
        "def user_friend_recommendation_pairs(mutual):\n",
        "    mutual_friend_pair = mutual[0]\n",
        "    mutual_friends_count = mutual[1]\n",
        "    f1 = mutual_friend_pair[0]\n",
        "    f2 = mutual_friend_pair[1]\n",
        "    rec1 = (f1, (f2, mutual_friends_count))\n",
        "    rec2 = (f2, (f1, mutual_friends_count))\n",
        "    return [rec1, rec2]\n",
        "\n",
        "# Sort the list up to 10 recommended friends\n",
        "def sort_recommendations(recs):\n",
        "    recs.sort(key = lambda x: (-int(x[1]), int(x[0])))\n",
        "    return list(map(lambda x: x[0], recs))[:10]\n"
      ],
      "metadata": {
        "id": "TeApg8MLKUOY"
      },
      "execution_count": 12,
      "outputs": []
    },
    {
      "cell_type": "code",
      "source": [
        "friendship_pairs = users.map(friend_pairs)\n",
        "friendship_pairs.take(5)\n",
        "#friendship_pairs.saveAsTextFile(outputDir)"
      ],
      "metadata": {
        "colab": {
          "base_uri": "https://localhost:8080/"
        },
        "id": "WW6NUOBhKdiL",
        "outputId": "9d251e82-d274-4124-f37f-1757e55cd763"
      },
      "execution_count": 13,
      "outputs": [
        {
          "output_type": "execute_result",
          "data": {
            "text/plain": [
              "[(0,\n",
              "  [1,\n",
              "   2,\n",
              "   3,\n",
              "   4,\n",
              "   5,\n",
              "   6,\n",
              "   7,\n",
              "   8,\n",
              "   9,\n",
              "   10,\n",
              "   11,\n",
              "   12,\n",
              "   13,\n",
              "   14,\n",
              "   15,\n",
              "   16,\n",
              "   17,\n",
              "   18,\n",
              "   19,\n",
              "   20,\n",
              "   21,\n",
              "   22,\n",
              "   23,\n",
              "   24,\n",
              "   25,\n",
              "   26,\n",
              "   27,\n",
              "   28,\n",
              "   29,\n",
              "   30,\n",
              "   31,\n",
              "   32,\n",
              "   33,\n",
              "   34,\n",
              "   35,\n",
              "   36,\n",
              "   37,\n",
              "   38,\n",
              "   39,\n",
              "   40,\n",
              "   41,\n",
              "   42,\n",
              "   43,\n",
              "   44,\n",
              "   45,\n",
              "   46,\n",
              "   47,\n",
              "   48,\n",
              "   49,\n",
              "   50,\n",
              "   51,\n",
              "   52,\n",
              "   53,\n",
              "   54,\n",
              "   55,\n",
              "   56,\n",
              "   57,\n",
              "   58,\n",
              "   59,\n",
              "   60,\n",
              "   61,\n",
              "   62,\n",
              "   63,\n",
              "   64,\n",
              "   65,\n",
              "   66,\n",
              "   67,\n",
              "   68,\n",
              "   69,\n",
              "   70,\n",
              "   71,\n",
              "   72,\n",
              "   73,\n",
              "   74,\n",
              "   75,\n",
              "   76,\n",
              "   77,\n",
              "   78,\n",
              "   79,\n",
              "   80,\n",
              "   81,\n",
              "   82,\n",
              "   83,\n",
              "   84,\n",
              "   85,\n",
              "   86,\n",
              "   87,\n",
              "   88,\n",
              "   89,\n",
              "   90,\n",
              "   91,\n",
              "   92,\n",
              "   93,\n",
              "   94]),\n",
              " (1,\n",
              "  [0,\n",
              "   5,\n",
              "   20,\n",
              "   135,\n",
              "   2409,\n",
              "   8715,\n",
              "   8932,\n",
              "   10623,\n",
              "   12347,\n",
              "   12846,\n",
              "   13840,\n",
              "   13845,\n",
              "   14005,\n",
              "   20075,\n",
              "   21556,\n",
              "   22939,\n",
              "   23520,\n",
              "   28193,\n",
              "   29724,\n",
              "   29791,\n",
              "   29826,\n",
              "   30691,\n",
              "   31232,\n",
              "   31435,\n",
              "   32317,\n",
              "   32489,\n",
              "   34394,\n",
              "   35589,\n",
              "   35605,\n",
              "   35606,\n",
              "   35613,\n",
              "   35633,\n",
              "   35648,\n",
              "   35678,\n",
              "   38737,\n",
              "   43447,\n",
              "   44846,\n",
              "   44887,\n",
              "   49226,\n",
              "   49985,\n",
              "   623,\n",
              "   629,\n",
              "   4999,\n",
              "   6156,\n",
              "   13912,\n",
              "   14248,\n",
              "   15190,\n",
              "   17636,\n",
              "   19217,\n",
              "   20074,\n",
              "   27536,\n",
              "   29481,\n",
              "   29726,\n",
              "   29767,\n",
              "   30257,\n",
              "   33060,\n",
              "   34250,\n",
              "   34280,\n",
              "   34392,\n",
              "   34406,\n",
              "   34418,\n",
              "   34420,\n",
              "   34439,\n",
              "   34450,\n",
              "   34651,\n",
              "   45054,\n",
              "   49592]),\n",
              " (2,\n",
              "  [0,\n",
              "   117,\n",
              "   135,\n",
              "   1220,\n",
              "   2755,\n",
              "   12453,\n",
              "   24539,\n",
              "   24714,\n",
              "   41456,\n",
              "   45046,\n",
              "   49927,\n",
              "   6893,\n",
              "   13795,\n",
              "   16659,\n",
              "   32828,\n",
              "   41878]),\n",
              " (3, [0, 12, 41, 55, 1532, 12636, 13185, 27552, 38737]),\n",
              " (4,\n",
              "  [0,\n",
              "   8,\n",
              "   14,\n",
              "   15,\n",
              "   18,\n",
              "   27,\n",
              "   72,\n",
              "   80,\n",
              "   15326,\n",
              "   19068,\n",
              "   19079,\n",
              "   24596,\n",
              "   42697,\n",
              "   46126,\n",
              "   74,\n",
              "   77,\n",
              "   33269,\n",
              "   38792,\n",
              "   38822])]"
            ]
          },
          "metadata": {},
          "execution_count": 13
        }
      ]
    },
    {
      "cell_type": "code",
      "source": [
        "friend_connections = friendship_pairs.flatMap(user_connected_friends)\n",
        "friend_connections.take(5)\n",
        "# [((0, 1), 0), ((0, 2), 0), ((0, 3), 0), ((0, 4), 0), ((0, 5), 0)]; ((friend_pair), 0/1), 0 if connected 1 if not connected but share a mutual friend\n",
        "# friend_connections.saveAsTextFile(outputDir)"
      ],
      "metadata": {
        "colab": {
          "base_uri": "https://localhost:8080/"
        },
        "id": "aIt4zjLeKhEE",
        "outputId": "9296fbe1-429e-44fd-a43e-42bc5356651d"
      },
      "execution_count": 14,
      "outputs": [
        {
          "output_type": "execute_result",
          "data": {
            "text/plain": [
              "[((0, 1), 0), ((0, 2), 0), ((0, 3), 0), ((0, 4), 0), ((0, 5), 0)]"
            ]
          },
          "metadata": {},
          "execution_count": 14
        }
      ]
    },
    {
      "cell_type": "code",
      "source": [
        "# finds the number of mutual friends between users who are not already friends\n",
        "mutual_connections = friend_connections.groupByKey().filter(lambda pair: 0 not in pair[1]).map(lambda pair:(pair[0], sum(pair[1])))\n",
        "# get pairs of recommended friends  \n",
        "recommendations = mutual_connections.flatMap(user_friend_recommendation_pairs)"
      ],
      "metadata": {
        "id": "KyPPrHoUKlAc"
      },
      "execution_count": 15,
      "outputs": []
    },
    {
      "cell_type": "code",
      "source": [
        "friend_recommendations = recommendations.groupByKey().map(lambda mf: (mf[0], sort_recommendations(list(mf[1]))))\n",
        "friend_recommendations.take(5)\n",
        "# [(24582, [9607, 13478, 24546, 24686, 35071, 4687, 7506, 7639, 14204, 24530]), (32780, [4425, 32440, 32761, 32775, 1412, 4339, 4408, 4414, 32356, 32394]), ...]; (user_id, [list of 10 recommened friends])"
      ],
      "metadata": {
        "id": "-vleUgb3LuKr",
        "colab": {
          "base_uri": "https://localhost:8080/"
        },
        "outputId": "1bf41bf5-bdea-4d20-9d80-f075d076175d"
      },
      "execution_count": 16,
      "outputs": [
        {
          "output_type": "execute_result",
          "data": {
            "text/plain": [
              "[(27656,\n",
              "  [19365, 25186, 37011, 44049, 10018, 35179, 37132, 41851, 44089, 44101]),\n",
              " (35599, [19, 1347, 2043, 2496, 9803, 11399, 14240, 17195, 17636, 32169]),\n",
              " (32640, [19, 242, 522, 553, 580, 886, 1234, 2122, 3549, 3706]),\n",
              " (28196, [39, 206, 494, 543, 611, 660, 964, 1495, 1606, 2128]),\n",
              " (24228, [343, 24230, 24250, 18445, 705, 16796, 24218, 24249, 64, 265])]"
            ]
          },
          "metadata": {},
          "execution_count": 16
        }
      ]
    },
    {
      "cell_type": "code",
      "source": [
        "user_ids_recs = friend_recommendations.filter(lambda recs: recs[0] in [924, 8941, 8942, 9019, 9020, 9021, 9022, 9990, 9992, 9993]).sortByKey()\n",
        "user_ids_recs.collect()"
      ],
      "metadata": {
        "id": "I9DreA3sNvQT",
        "colab": {
          "base_uri": "https://localhost:8080/"
        },
        "outputId": "5d8dda03-7d25-4c9e-ee1d-4f8af81b98a3"
      },
      "execution_count": 17,
      "outputs": [
        {
          "output_type": "execute_result",
          "data": {
            "text/plain": [
              "[(924, [439, 2409, 6995, 11860, 15416, 43748, 45881]),\n",
              " (9019, [9022, 317, 9023]),\n",
              " (9020, [9021, 9016, 9017, 9022, 317, 9023]),\n",
              " (9021, [9020, 9016, 9017, 9022, 317, 9023]),\n",
              " (9022, [9019, 9020, 9021, 317, 9016, 9017, 9023])]"
            ]
          },
          "metadata": {},
          "execution_count": 17
        }
      ]
    },
    {
      "cell_type": "code",
      "source": [
        "user_ids_recs.saveAsTextFile(\"output.txt\")\n",
        "sc.stop()"
      ],
      "metadata": {
        "id": "dh4Cg6m-Ocpv"
      },
      "execution_count": 18,
      "outputs": []
    }
  ]
}